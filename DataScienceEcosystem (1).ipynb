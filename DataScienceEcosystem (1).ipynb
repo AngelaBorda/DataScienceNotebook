{
 "cells": [
  {
   "cell_type": "markdown",
   "id": "bb525ff6-2eab-4aa5-af7e-e18eb492d7fb",
   "metadata": {},
   "source": [
    "# Data Science Tools and Ecosystem\n",
    "\r\n"
   ]
  },
  {
   "cell_type": "markdown",
   "id": "fb68b970-6d0d-4e11-a01b-be0e3a2dd019",
   "metadata": {},
   "source": [
    "In this notebook, Data Science Tools and Ecosystem are summarized."
   ]
  },
  {
   "cell_type": "code",
   "execution_count": null,
   "id": "a34bf559-47f7-4aeb-b9b6-14fd577f81c5",
   "metadata": {},
   "outputs": [],
   "source": [
    "Some of the popular languages that Data Scientists use are:\n",
    "1. Python\n",
    "2. R\n",
    "3. SQL\n",
    "4. Java\n",
    "5. Scala\n"
   ]
  },
  {
   "cell_type": "markdown",
   "id": "d7fa2d3d-b383-46d4-ba97-2a01211556f9",
   "metadata": {},
   "source": [
    "Some of the commonly used libraries used by Data Scientists include:\n",
    "1. NumPy\n",
    "2. Pandas\n",
    "3. Matplotlib\n",
    "5. Scikit-learn\n",
    "6. TensorFlow\n"
   ]
  },
  {
   "cell_type": "markdown",
   "id": "35d23707-bb69-4c6e-bd96-c100ea37d60c",
   "metadata": {},
   "source": [
    "| Data Science Tools |\n",
    "|--------------------|\n",
    "| Jupyter Notebook   |\n",
    "| RStudio            |\n",
    "| Apache Zeppelin    |\n"
   ]
  },
  {
   "cell_type": "markdown",
   "id": "1ad25c3c-c7db-4269-ad99-5dc03f9db00a",
   "metadata": {},
   "source": [
    "### Below are a few examples of evaluating arithmetic expressions in Python.\n"
   ]
  },
  {
   "cell_type": "code",
   "execution_count": 6,
   "id": "05c21a08-913c-44b6-bc11-a8386e8bb924",
   "metadata": {},
   "outputs": [
    {
     "data": {
      "text/plain": [
       "17"
      ]
     },
     "execution_count": 6,
     "metadata": {},
     "output_type": "execute_result"
    }
   ],
   "source": [
    "# This is a simple arithmetic expression to multiply then add integers\n",
    "(3 * 4) + 5\n"
   ]
  },
  {
   "cell_type": "code",
   "execution_count": 8,
   "id": "8b70e116-f638-4948-9ba7-0958a9827e11",
   "metadata": {},
   "outputs": [
    {
     "data": {
      "text/plain": [
       "3.3333333333333335"
      ]
     },
     "execution_count": 8,
     "metadata": {},
     "output_type": "execute_result"
    }
   ],
   "source": [
    "# This will convert 200 minutes to hours by dividing by 60\n",
    "200 / 60\n"
   ]
  },
  {
   "cell_type": "markdown",
   "id": "3192e98e-237d-4f98-b8f7-7bd04d7f6af3",
   "metadata": {},
   "source": [
    "**Objectives:**\n",
    "- List popular languages for Data Science\n",
    "- Understand commonly used Data Science libraries\n",
    "- Explore Data Science tools\n",
    "- Perform basic arithmetic operations in Python\n",
    "- Convert units using Python expressions\n"
   ]
  },
  {
   "cell_type": "markdown",
   "id": "0c064101-95da-4623-b344-837cb9f5205f",
   "metadata": {},
   "source": [
    "## Author\n",
    "Angela\n"
   ]
  },
  {
   "cell_type": "code",
   "execution_count": null,
   "id": "c4cf8422-c09c-435e-aafa-3792874596ce",
   "metadata": {},
   "outputs": [],
   "source": []
  }
 ],
 "metadata": {
  "kernelspec": {
   "display_name": "Python 3 (ipykernel)",
   "language": "python",
   "name": "python3"
  },
  "language_info": {
   "codemirror_mode": {
    "name": "ipython",
    "version": 3
   },
   "file_extension": ".py",
   "mimetype": "text/x-python",
   "name": "python",
   "nbconvert_exporter": "python",
   "pygments_lexer": "ipython3",
   "version": "3.12.4"
  }
 },
 "nbformat": 4,
 "nbformat_minor": 5
}
